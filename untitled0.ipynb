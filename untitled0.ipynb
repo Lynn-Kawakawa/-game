{
  "cells": [
    {
      "cell_type": "code",
      "source": [
        "import random\n",
        "\n",
        "def validate(food):\n",
        "    if food < 0 or food > 2:\n",
        "        return False\n",
        "    return True\n",
        "\n",
        "def print_food(food, name):\n",
        "    foods = ['チモシー', 'ピーマン', 'ペレット']\n",
        "    print(name + 'は' + foods[food] + 'を選びました')\n",
        "\n",
        "def judge(player, computer):\n",
        "    # 好みの数値に基づいて結果を判断\n",
        "    if player == computer:\n",
        "        return 'モルモットは物足りなさそうです'\n",
        "    elif player < computer:\n",
        "        return 'モルモットは満足したようです'\n",
        "    else:\n",
        "        return 'モルモットは逃げてしまいました'\n",
        "\n",
        "def main():\n",
        "    print('モルモットにおやつをあげます')\n",
        "    print('何をあげるか選んでください')\n",
        "\n",
        "    player_name = input('名前を入力してください: ')\n",
        "    try:\n",
        "        player_food = int(input('おやつを選んでください。0：チモシー，1：ピーマン，2：ペレット: '))\n",
        "    except ValueError:\n",
        "        print('数字を入力してください')\n",
        "        return\n",
        "\n",
        "    if validate(player_food):\n",
        "        # モルモットの好みを登録する（例: 0: 好き, 1: 普通, 2: 嫌い）\n",
        "        computer_like = random.randint(0, 2)  # モルモットの好みをランダムに設定\n",
        "\n",
        "        print_food(player_food, player_name)\n",
        "        # モルモットが選んだおやつは表示しない\n",
        "        # print_food(computer_like, 'モルモット')  # この行を削除またはコメントアウト\n",
        "\n",
        "        result = judge(player_food, computer_like)\n",
        "        print('結果：' + result)\n",
        "    else:\n",
        "        print('正しい数値を入力してください')\n",
        "\n",
        "if __name__ == \"__main__\":\n",
        "    main()\n"
      ],
      "metadata": {
        "colab": {
          "base_uri": "https://localhost:8080/"
        },
        "id": "fJvhK-Xn32JH",
        "outputId": "ca3c3743-8f47-446f-8675-46d4bf5991b8"
      },
      "execution_count": null,
      "outputs": [
        {
          "output_type": "stream",
          "name": "stdout",
          "text": [
            "モルモットにおやつをあげます\n",
            "何をあげるか選んでください\n",
            "名前を入力してください: 25\n",
            "おやつを選んでください。0：チモシー，1：ピーマン，2：ペレット: 0\n",
            "25はチモシーを選びました\n",
            "結果：モルモットは満足したようです\n"
          ]
        }
      ]
    }
  ],
  "metadata": {
    "colab": {
      "provenance": []
    },
    "kernelspec": {
      "display_name": "Python 3",
      "name": "python3"
    },
    "language_info": {
      "name": "python"
    }
  },
  "nbformat": 4,
  "nbformat_minor": 0
}